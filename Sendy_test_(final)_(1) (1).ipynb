{
  "nbformat": 4,
  "nbformat_minor": 0,
  "metadata": {
    "colab": {
      "name": "Sendy_test_(final) (1).ipynb",
      "provenance": [],
      "collapsed_sections": []
    },
    "kernelspec": {
      "name": "python3",
      "display_name": "Python 3"
    }
  },
  "cells": [
    {
      "cell_type": "markdown",
      "metadata": {
        "id": "zheiOvYwffqP",
        "colab_type": "text"
      },
      "source": [
        "This is my notebook for the Sendy Logistic Challenge that I participated in hosted on Zindi. It is my fisrt time entering a hackathon and I am proud of what I managed to achieve. At the time of saving this notebook my submission is ranked 29 out of 206. "
      ]
    },
    {
      "cell_type": "code",
      "metadata": {
        "id": "CWnEXATMOj0t",
        "colab_type": "code",
        "colab": {}
      },
      "source": [
        "#import my libraries\n",
        "import numpy as np\n",
        "import pandas as pd\n",
        "import matplotlib.pyplot as plt\n",
        "import seaborn as sns\n",
        "from sklearn.linear_model import LinearRegression\n",
        "import xgboost as xgb\n",
        "from sklearn.ensemble import GradientBoostingRegressor\n",
        "from sklearn.model_selection import train_test_split\n",
        "from sklearn.metrics import mean_squared_error"
      ],
      "execution_count": 247,
      "outputs": []
    },
    {
      "cell_type": "code",
      "metadata": {
        "id": "SV9_g12uPFXd",
        "colab_type": "code",
        "colab": {}
      },
      "source": [
        "#load my datasets\n",
        "train = pd.read_csv('Train.csv')\n",
        "riders = pd.read_csv('Riders.csv')\n",
        "sample_submission = pd.read_csv('SampleSubmission.csv')\n",
        "test = pd.read_csv('Test.csv')\n",
        "variableDefinitions = pd.read_csv('VariableDefinitions.csv')"
      ],
      "execution_count": 248,
      "outputs": []
    },
    {
      "cell_type": "code",
      "metadata": {
        "id": "GMxG3IvzPJN1",
        "colab_type": "code",
        "colab": {
          "base_uri": "https://localhost:8080/",
          "height": 51
        },
        "outputId": "02511131-5d46-4be1-9ecf-71ed38346dbe"
      },
      "source": [
        "# print shape\n",
        "print('train data shape :', train.shape)\n",
        "print('test data shape :', test.shape)"
      ],
      "execution_count": 249,
      "outputs": [
        {
          "output_type": "stream",
          "text": [
            "train data shape : (21201, 29)\n",
            "test data shape : (7068, 25)\n"
          ],
          "name": "stdout"
        }
      ]
    },
    {
      "cell_type": "code",
      "metadata": {
        "id": "GILTNzppPM7G",
        "colab_type": "code",
        "colab": {
          "base_uri": "https://localhost:8080/",
          "height": 411
        },
        "outputId": "e58e6442-ba6d-4f1b-cf54-5c63bfda3153"
      },
      "source": [
        "#a look into the train dataset\n",
        "train.head()"
      ],
      "execution_count": 250,
      "outputs": [
        {
          "output_type": "execute_result",
          "data": {
            "text/html": [
              "<div>\n",
              "<style scoped>\n",
              "    .dataframe tbody tr th:only-of-type {\n",
              "        vertical-align: middle;\n",
              "    }\n",
              "\n",
              "    .dataframe tbody tr th {\n",
              "        vertical-align: top;\n",
              "    }\n",
              "\n",
              "    .dataframe thead th {\n",
              "        text-align: right;\n",
              "    }\n",
              "</style>\n",
              "<table border=\"1\" class=\"dataframe\">\n",
              "  <thead>\n",
              "    <tr style=\"text-align: right;\">\n",
              "      <th></th>\n",
              "      <th>Order No</th>\n",
              "      <th>User Id</th>\n",
              "      <th>Vehicle Type</th>\n",
              "      <th>Platform Type</th>\n",
              "      <th>Personal or Business</th>\n",
              "      <th>Placement - Day of Month</th>\n",
              "      <th>Placement - Weekday (Mo = 1)</th>\n",
              "      <th>Placement - Time</th>\n",
              "      <th>Confirmation - Day of Month</th>\n",
              "      <th>Confirmation - Weekday (Mo = 1)</th>\n",
              "      <th>Confirmation - Time</th>\n",
              "      <th>Arrival at Pickup - Day of Month</th>\n",
              "      <th>Arrival at Pickup - Weekday (Mo = 1)</th>\n",
              "      <th>Arrival at Pickup - Time</th>\n",
              "      <th>Pickup - Day of Month</th>\n",
              "      <th>Pickup - Weekday (Mo = 1)</th>\n",
              "      <th>Pickup - Time</th>\n",
              "      <th>Arrival at Destination - Day of Month</th>\n",
              "      <th>Arrival at Destination - Weekday (Mo = 1)</th>\n",
              "      <th>Arrival at Destination - Time</th>\n",
              "      <th>Distance (KM)</th>\n",
              "      <th>Temperature</th>\n",
              "      <th>Precipitation in millimeters</th>\n",
              "      <th>Pickup Lat</th>\n",
              "      <th>Pickup Long</th>\n",
              "      <th>Destination Lat</th>\n",
              "      <th>Destination Long</th>\n",
              "      <th>Rider Id</th>\n",
              "      <th>Time from Pickup to Arrival</th>\n",
              "    </tr>\n",
              "  </thead>\n",
              "  <tbody>\n",
              "    <tr>\n",
              "      <th>0</th>\n",
              "      <td>Order_No_4211</td>\n",
              "      <td>User_Id_633</td>\n",
              "      <td>Bike</td>\n",
              "      <td>3</td>\n",
              "      <td>Business</td>\n",
              "      <td>9</td>\n",
              "      <td>5</td>\n",
              "      <td>9:35:46 AM</td>\n",
              "      <td>9</td>\n",
              "      <td>5</td>\n",
              "      <td>9:40:10 AM</td>\n",
              "      <td>9</td>\n",
              "      <td>5</td>\n",
              "      <td>10:04:47 AM</td>\n",
              "      <td>9</td>\n",
              "      <td>5</td>\n",
              "      <td>10:27:30 AM</td>\n",
              "      <td>9</td>\n",
              "      <td>5</td>\n",
              "      <td>10:39:55 AM</td>\n",
              "      <td>4</td>\n",
              "      <td>20.4</td>\n",
              "      <td>NaN</td>\n",
              "      <td>-1.317755</td>\n",
              "      <td>36.830370</td>\n",
              "      <td>-1.300406</td>\n",
              "      <td>36.829741</td>\n",
              "      <td>Rider_Id_432</td>\n",
              "      <td>745</td>\n",
              "    </tr>\n",
              "    <tr>\n",
              "      <th>1</th>\n",
              "      <td>Order_No_25375</td>\n",
              "      <td>User_Id_2285</td>\n",
              "      <td>Bike</td>\n",
              "      <td>3</td>\n",
              "      <td>Personal</td>\n",
              "      <td>12</td>\n",
              "      <td>5</td>\n",
              "      <td>11:16:16 AM</td>\n",
              "      <td>12</td>\n",
              "      <td>5</td>\n",
              "      <td>11:23:21 AM</td>\n",
              "      <td>12</td>\n",
              "      <td>5</td>\n",
              "      <td>11:40:22 AM</td>\n",
              "      <td>12</td>\n",
              "      <td>5</td>\n",
              "      <td>11:44:09 AM</td>\n",
              "      <td>12</td>\n",
              "      <td>5</td>\n",
              "      <td>12:17:22 PM</td>\n",
              "      <td>16</td>\n",
              "      <td>26.4</td>\n",
              "      <td>NaN</td>\n",
              "      <td>-1.351453</td>\n",
              "      <td>36.899315</td>\n",
              "      <td>-1.295004</td>\n",
              "      <td>36.814358</td>\n",
              "      <td>Rider_Id_856</td>\n",
              "      <td>1993</td>\n",
              "    </tr>\n",
              "    <tr>\n",
              "      <th>2</th>\n",
              "      <td>Order_No_1899</td>\n",
              "      <td>User_Id_265</td>\n",
              "      <td>Bike</td>\n",
              "      <td>3</td>\n",
              "      <td>Business</td>\n",
              "      <td>30</td>\n",
              "      <td>2</td>\n",
              "      <td>12:39:25 PM</td>\n",
              "      <td>30</td>\n",
              "      <td>2</td>\n",
              "      <td>12:42:44 PM</td>\n",
              "      <td>30</td>\n",
              "      <td>2</td>\n",
              "      <td>12:49:34 PM</td>\n",
              "      <td>30</td>\n",
              "      <td>2</td>\n",
              "      <td>12:53:03 PM</td>\n",
              "      <td>30</td>\n",
              "      <td>2</td>\n",
              "      <td>1:00:38 PM</td>\n",
              "      <td>3</td>\n",
              "      <td>NaN</td>\n",
              "      <td>NaN</td>\n",
              "      <td>-1.308284</td>\n",
              "      <td>36.843419</td>\n",
              "      <td>-1.300921</td>\n",
              "      <td>36.828195</td>\n",
              "      <td>Rider_Id_155</td>\n",
              "      <td>455</td>\n",
              "    </tr>\n",
              "    <tr>\n",
              "      <th>3</th>\n",
              "      <td>Order_No_9336</td>\n",
              "      <td>User_Id_1402</td>\n",
              "      <td>Bike</td>\n",
              "      <td>3</td>\n",
              "      <td>Business</td>\n",
              "      <td>15</td>\n",
              "      <td>5</td>\n",
              "      <td>9:25:34 AM</td>\n",
              "      <td>15</td>\n",
              "      <td>5</td>\n",
              "      <td>9:26:05 AM</td>\n",
              "      <td>15</td>\n",
              "      <td>5</td>\n",
              "      <td>9:37:56 AM</td>\n",
              "      <td>15</td>\n",
              "      <td>5</td>\n",
              "      <td>9:43:06 AM</td>\n",
              "      <td>15</td>\n",
              "      <td>5</td>\n",
              "      <td>10:05:27 AM</td>\n",
              "      <td>9</td>\n",
              "      <td>19.2</td>\n",
              "      <td>NaN</td>\n",
              "      <td>-1.281301</td>\n",
              "      <td>36.832396</td>\n",
              "      <td>-1.257147</td>\n",
              "      <td>36.795063</td>\n",
              "      <td>Rider_Id_855</td>\n",
              "      <td>1341</td>\n",
              "    </tr>\n",
              "    <tr>\n",
              "      <th>4</th>\n",
              "      <td>Order_No_27883</td>\n",
              "      <td>User_Id_1737</td>\n",
              "      <td>Bike</td>\n",
              "      <td>1</td>\n",
              "      <td>Personal</td>\n",
              "      <td>13</td>\n",
              "      <td>1</td>\n",
              "      <td>9:55:18 AM</td>\n",
              "      <td>13</td>\n",
              "      <td>1</td>\n",
              "      <td>9:56:18 AM</td>\n",
              "      <td>13</td>\n",
              "      <td>1</td>\n",
              "      <td>10:03:53 AM</td>\n",
              "      <td>13</td>\n",
              "      <td>1</td>\n",
              "      <td>10:05:23 AM</td>\n",
              "      <td>13</td>\n",
              "      <td>1</td>\n",
              "      <td>10:25:37 AM</td>\n",
              "      <td>9</td>\n",
              "      <td>15.4</td>\n",
              "      <td>NaN</td>\n",
              "      <td>-1.266597</td>\n",
              "      <td>36.792118</td>\n",
              "      <td>-1.295041</td>\n",
              "      <td>36.809817</td>\n",
              "      <td>Rider_Id_770</td>\n",
              "      <td>1214</td>\n",
              "    </tr>\n",
              "  </tbody>\n",
              "</table>\n",
              "</div>"
            ],
            "text/plain": [
              "         Order No       User Id  ...      Rider Id  Time from Pickup to Arrival\n",
              "0   Order_No_4211   User_Id_633  ...  Rider_Id_432                          745\n",
              "1  Order_No_25375  User_Id_2285  ...  Rider_Id_856                         1993\n",
              "2   Order_No_1899   User_Id_265  ...  Rider_Id_155                          455\n",
              "3   Order_No_9336  User_Id_1402  ...  Rider_Id_855                         1341\n",
              "4  Order_No_27883  User_Id_1737  ...  Rider_Id_770                         1214\n",
              "\n",
              "[5 rows x 29 columns]"
            ]
          },
          "metadata": {
            "tags": []
          },
          "execution_count": 250
        }
      ]
    },
    {
      "cell_type": "code",
      "metadata": {
        "id": "F-8-zStTPQs4",
        "colab_type": "code",
        "colab": {
          "base_uri": "https://localhost:8080/",
          "height": 629
        },
        "outputId": "620dcf2e-c480-43b7-b077-373819e30bca"
      },
      "source": [
        "#getting info about my dataset\n",
        "train.info()"
      ],
      "execution_count": 251,
      "outputs": [
        {
          "output_type": "stream",
          "text": [
            "<class 'pandas.core.frame.DataFrame'>\n",
            "RangeIndex: 21201 entries, 0 to 21200\n",
            "Data columns (total 29 columns):\n",
            " #   Column                                     Non-Null Count  Dtype  \n",
            "---  ------                                     --------------  -----  \n",
            " 0   Order No                                   21201 non-null  object \n",
            " 1   User Id                                    21201 non-null  object \n",
            " 2   Vehicle Type                               21201 non-null  object \n",
            " 3   Platform Type                              21201 non-null  int64  \n",
            " 4   Personal or Business                       21201 non-null  object \n",
            " 5   Placement - Day of Month                   21201 non-null  int64  \n",
            " 6   Placement - Weekday (Mo = 1)               21201 non-null  int64  \n",
            " 7   Placement - Time                           21201 non-null  object \n",
            " 8   Confirmation - Day of Month                21201 non-null  int64  \n",
            " 9   Confirmation - Weekday (Mo = 1)            21201 non-null  int64  \n",
            " 10  Confirmation - Time                        21201 non-null  object \n",
            " 11  Arrival at Pickup - Day of Month           21201 non-null  int64  \n",
            " 12  Arrival at Pickup - Weekday (Mo = 1)       21201 non-null  int64  \n",
            " 13  Arrival at Pickup - Time                   21201 non-null  object \n",
            " 14  Pickup - Day of Month                      21201 non-null  int64  \n",
            " 15  Pickup - Weekday (Mo = 1)                  21201 non-null  int64  \n",
            " 16  Pickup - Time                              21201 non-null  object \n",
            " 17  Arrival at Destination - Day of Month      21201 non-null  int64  \n",
            " 18  Arrival at Destination - Weekday (Mo = 1)  21201 non-null  int64  \n",
            " 19  Arrival at Destination - Time              21201 non-null  object \n",
            " 20  Distance (KM)                              21201 non-null  int64  \n",
            " 21  Temperature                                16835 non-null  float64\n",
            " 22  Precipitation in millimeters               552 non-null    float64\n",
            " 23  Pickup Lat                                 21201 non-null  float64\n",
            " 24  Pickup Long                                21201 non-null  float64\n",
            " 25  Destination Lat                            21201 non-null  float64\n",
            " 26  Destination Long                           21201 non-null  float64\n",
            " 27  Rider Id                                   21201 non-null  object \n",
            " 28  Time from Pickup to Arrival                21201 non-null  int64  \n",
            "dtypes: float64(6), int64(13), object(10)\n",
            "memory usage: 4.7+ MB\n"
          ],
          "name": "stdout"
        }
      ]
    },
    {
      "cell_type": "code",
      "metadata": {
        "id": "DpXH3F4UPa8i",
        "colab_type": "code",
        "colab": {
          "base_uri": "https://localhost:8080/",
          "height": 561
        },
        "outputId": "8232c34c-aa9a-421a-a074-a834807aa5bd"
      },
      "source": [
        "#getting info about my dataset\n",
        "test.info()"
      ],
      "execution_count": 252,
      "outputs": [
        {
          "output_type": "stream",
          "text": [
            "<class 'pandas.core.frame.DataFrame'>\n",
            "RangeIndex: 7068 entries, 0 to 7067\n",
            "Data columns (total 25 columns):\n",
            " #   Column                                Non-Null Count  Dtype  \n",
            "---  ------                                --------------  -----  \n",
            " 0   Order No                              7068 non-null   object \n",
            " 1   User Id                               7068 non-null   object \n",
            " 2   Vehicle Type                          7068 non-null   object \n",
            " 3   Platform Type                         7068 non-null   int64  \n",
            " 4   Personal or Business                  7068 non-null   object \n",
            " 5   Placement - Day of Month              7068 non-null   int64  \n",
            " 6   Placement - Weekday (Mo = 1)          7068 non-null   int64  \n",
            " 7   Placement - Time                      7068 non-null   object \n",
            " 8   Confirmation - Day of Month           7068 non-null   int64  \n",
            " 9   Confirmation - Weekday (Mo = 1)       7068 non-null   int64  \n",
            " 10  Confirmation - Time                   7068 non-null   object \n",
            " 11  Arrival at Pickup - Day of Month      7068 non-null   int64  \n",
            " 12  Arrival at Pickup - Weekday (Mo = 1)  7068 non-null   int64  \n",
            " 13  Arrival at Pickup - Time              7068 non-null   object \n",
            " 14  Pickup - Day of Month                 7068 non-null   int64  \n",
            " 15  Pickup - Weekday (Mo = 1)             7068 non-null   int64  \n",
            " 16  Pickup - Time                         7068 non-null   object \n",
            " 17  Distance (KM)                         7068 non-null   int64  \n",
            " 18  Temperature                           5631 non-null   float64\n",
            " 19  Precipitation in millimeters          199 non-null    float64\n",
            " 20  Pickup Lat                            7068 non-null   float64\n",
            " 21  Pickup Long                           7068 non-null   float64\n",
            " 22  Destination Lat                       7068 non-null   float64\n",
            " 23  Destination Long                      7068 non-null   float64\n",
            " 24  Rider Id                              7068 non-null   object \n",
            "dtypes: float64(6), int64(10), object(9)\n",
            "memory usage: 1.3+ MB\n"
          ],
          "name": "stdout"
        }
      ]
    },
    {
      "cell_type": "code",
      "metadata": {
        "id": "BqXG_M8VcrRO",
        "colab_type": "code",
        "colab": {
          "base_uri": "https://localhost:8080/",
          "height": 368
        },
        "outputId": "bd57999a-72e5-4874-bac8-9dbaa3e55aa0"
      },
      "source": [
        "#getting some summaries about my train dataframe\n",
        "train.describe()"
      ],
      "execution_count": 253,
      "outputs": [
        {
          "output_type": "execute_result",
          "data": {
            "text/html": [
              "<div>\n",
              "<style scoped>\n",
              "    .dataframe tbody tr th:only-of-type {\n",
              "        vertical-align: middle;\n",
              "    }\n",
              "\n",
              "    .dataframe tbody tr th {\n",
              "        vertical-align: top;\n",
              "    }\n",
              "\n",
              "    .dataframe thead th {\n",
              "        text-align: right;\n",
              "    }\n",
              "</style>\n",
              "<table border=\"1\" class=\"dataframe\">\n",
              "  <thead>\n",
              "    <tr style=\"text-align: right;\">\n",
              "      <th></th>\n",
              "      <th>Platform Type</th>\n",
              "      <th>Placement - Day of Month</th>\n",
              "      <th>Placement - Weekday (Mo = 1)</th>\n",
              "      <th>Confirmation - Day of Month</th>\n",
              "      <th>Confirmation - Weekday (Mo = 1)</th>\n",
              "      <th>Arrival at Pickup - Day of Month</th>\n",
              "      <th>Arrival at Pickup - Weekday (Mo = 1)</th>\n",
              "      <th>Pickup - Day of Month</th>\n",
              "      <th>Pickup - Weekday (Mo = 1)</th>\n",
              "      <th>Arrival at Destination - Day of Month</th>\n",
              "      <th>Arrival at Destination - Weekday (Mo = 1)</th>\n",
              "      <th>Distance (KM)</th>\n",
              "      <th>Temperature</th>\n",
              "      <th>Precipitation in millimeters</th>\n",
              "      <th>Pickup Lat</th>\n",
              "      <th>Pickup Long</th>\n",
              "      <th>Destination Lat</th>\n",
              "      <th>Destination Long</th>\n",
              "      <th>Time from Pickup to Arrival</th>\n",
              "    </tr>\n",
              "  </thead>\n",
              "  <tbody>\n",
              "    <tr>\n",
              "      <th>count</th>\n",
              "      <td>21201.000000</td>\n",
              "      <td>21201.000000</td>\n",
              "      <td>21201.000000</td>\n",
              "      <td>21201.000000</td>\n",
              "      <td>21201.000000</td>\n",
              "      <td>21201.000000</td>\n",
              "      <td>21201.000000</td>\n",
              "      <td>21201.000000</td>\n",
              "      <td>21201.000000</td>\n",
              "      <td>21201.000000</td>\n",
              "      <td>21201.000000</td>\n",
              "      <td>21201.000000</td>\n",
              "      <td>16835.000000</td>\n",
              "      <td>552.000000</td>\n",
              "      <td>21201.000000</td>\n",
              "      <td>21201.000000</td>\n",
              "      <td>21201.000000</td>\n",
              "      <td>21201.000000</td>\n",
              "      <td>21201.000000</td>\n",
              "    </tr>\n",
              "    <tr>\n",
              "      <th>mean</th>\n",
              "      <td>2.752182</td>\n",
              "      <td>15.653696</td>\n",
              "      <td>3.240083</td>\n",
              "      <td>15.653837</td>\n",
              "      <td>3.240225</td>\n",
              "      <td>15.653837</td>\n",
              "      <td>3.240225</td>\n",
              "      <td>15.653837</td>\n",
              "      <td>3.240225</td>\n",
              "      <td>15.653837</td>\n",
              "      <td>3.240225</td>\n",
              "      <td>9.506533</td>\n",
              "      <td>23.258889</td>\n",
              "      <td>7.905797</td>\n",
              "      <td>-1.281470</td>\n",
              "      <td>36.811264</td>\n",
              "      <td>-1.282581</td>\n",
              "      <td>36.811220</td>\n",
              "      <td>1556.920947</td>\n",
              "    </tr>\n",
              "    <tr>\n",
              "      <th>std</th>\n",
              "      <td>0.625178</td>\n",
              "      <td>8.798916</td>\n",
              "      <td>1.567295</td>\n",
              "      <td>8.798886</td>\n",
              "      <td>1.567228</td>\n",
              "      <td>8.798886</td>\n",
              "      <td>1.567228</td>\n",
              "      <td>8.798886</td>\n",
              "      <td>1.567228</td>\n",
              "      <td>8.798886</td>\n",
              "      <td>1.567228</td>\n",
              "      <td>5.668963</td>\n",
              "      <td>3.615768</td>\n",
              "      <td>17.089971</td>\n",
              "      <td>0.030507</td>\n",
              "      <td>0.037473</td>\n",
              "      <td>0.034824</td>\n",
              "      <td>0.044721</td>\n",
              "      <td>987.270788</td>\n",
              "    </tr>\n",
              "    <tr>\n",
              "      <th>min</th>\n",
              "      <td>1.000000</td>\n",
              "      <td>1.000000</td>\n",
              "      <td>1.000000</td>\n",
              "      <td>1.000000</td>\n",
              "      <td>1.000000</td>\n",
              "      <td>1.000000</td>\n",
              "      <td>1.000000</td>\n",
              "      <td>1.000000</td>\n",
              "      <td>1.000000</td>\n",
              "      <td>1.000000</td>\n",
              "      <td>1.000000</td>\n",
              "      <td>1.000000</td>\n",
              "      <td>11.200000</td>\n",
              "      <td>0.100000</td>\n",
              "      <td>-1.438302</td>\n",
              "      <td>36.653621</td>\n",
              "      <td>-1.430298</td>\n",
              "      <td>36.606594</td>\n",
              "      <td>1.000000</td>\n",
              "    </tr>\n",
              "    <tr>\n",
              "      <th>25%</th>\n",
              "      <td>3.000000</td>\n",
              "      <td>8.000000</td>\n",
              "      <td>2.000000</td>\n",
              "      <td>8.000000</td>\n",
              "      <td>2.000000</td>\n",
              "      <td>8.000000</td>\n",
              "      <td>2.000000</td>\n",
              "      <td>8.000000</td>\n",
              "      <td>2.000000</td>\n",
              "      <td>8.000000</td>\n",
              "      <td>2.000000</td>\n",
              "      <td>5.000000</td>\n",
              "      <td>20.600000</td>\n",
              "      <td>1.075000</td>\n",
              "      <td>-1.300921</td>\n",
              "      <td>36.784605</td>\n",
              "      <td>-1.301201</td>\n",
              "      <td>36.785661</td>\n",
              "      <td>882.000000</td>\n",
              "    </tr>\n",
              "    <tr>\n",
              "      <th>50%</th>\n",
              "      <td>3.000000</td>\n",
              "      <td>15.000000</td>\n",
              "      <td>3.000000</td>\n",
              "      <td>15.000000</td>\n",
              "      <td>3.000000</td>\n",
              "      <td>15.000000</td>\n",
              "      <td>3.000000</td>\n",
              "      <td>15.000000</td>\n",
              "      <td>3.000000</td>\n",
              "      <td>15.000000</td>\n",
              "      <td>3.000000</td>\n",
              "      <td>8.000000</td>\n",
              "      <td>23.500000</td>\n",
              "      <td>2.900000</td>\n",
              "      <td>-1.279395</td>\n",
              "      <td>36.807040</td>\n",
              "      <td>-1.284382</td>\n",
              "      <td>36.808002</td>\n",
              "      <td>1369.000000</td>\n",
              "    </tr>\n",
              "    <tr>\n",
              "      <th>75%</th>\n",
              "      <td>3.000000</td>\n",
              "      <td>23.000000</td>\n",
              "      <td>5.000000</td>\n",
              "      <td>23.000000</td>\n",
              "      <td>5.000000</td>\n",
              "      <td>23.000000</td>\n",
              "      <td>5.000000</td>\n",
              "      <td>23.000000</td>\n",
              "      <td>5.000000</td>\n",
              "      <td>23.000000</td>\n",
              "      <td>5.000000</td>\n",
              "      <td>13.000000</td>\n",
              "      <td>26.000000</td>\n",
              "      <td>4.900000</td>\n",
              "      <td>-1.257147</td>\n",
              "      <td>36.829741</td>\n",
              "      <td>-1.261177</td>\n",
              "      <td>36.829477</td>\n",
              "      <td>2040.000000</td>\n",
              "    </tr>\n",
              "    <tr>\n",
              "      <th>max</th>\n",
              "      <td>4.000000</td>\n",
              "      <td>31.000000</td>\n",
              "      <td>7.000000</td>\n",
              "      <td>31.000000</td>\n",
              "      <td>7.000000</td>\n",
              "      <td>31.000000</td>\n",
              "      <td>7.000000</td>\n",
              "      <td>31.000000</td>\n",
              "      <td>7.000000</td>\n",
              "      <td>31.000000</td>\n",
              "      <td>7.000000</td>\n",
              "      <td>49.000000</td>\n",
              "      <td>32.100000</td>\n",
              "      <td>99.100000</td>\n",
              "      <td>-1.147170</td>\n",
              "      <td>36.991046</td>\n",
              "      <td>-1.030225</td>\n",
              "      <td>37.016779</td>\n",
              "      <td>7883.000000</td>\n",
              "    </tr>\n",
              "  </tbody>\n",
              "</table>\n",
              "</div>"
            ],
            "text/plain": [
              "       Platform Type  ...  Time from Pickup to Arrival\n",
              "count   21201.000000  ...                 21201.000000\n",
              "mean        2.752182  ...                  1556.920947\n",
              "std         0.625178  ...                   987.270788\n",
              "min         1.000000  ...                     1.000000\n",
              "25%         3.000000  ...                   882.000000\n",
              "50%         3.000000  ...                  1369.000000\n",
              "75%         3.000000  ...                  2040.000000\n",
              "max         4.000000  ...                  7883.000000\n",
              "\n",
              "[8 rows x 19 columns]"
            ]
          },
          "metadata": {
            "tags": []
          },
          "execution_count": 253
        }
      ]
    },
    {
      "cell_type": "code",
      "metadata": {
        "id": "sC7rAGaUc2ej",
        "colab_type": "code",
        "colab": {
          "base_uri": "https://localhost:8080/",
          "height": 279
        },
        "outputId": "9b958060-a9ee-4d1c-c32b-25b90e5c0032"
      },
      "source": [
        "#relationship between distance and time\n",
        "train.plot(kind = 'scatter', x = 'Distance (KM)', y = 'Time from Pickup to Arrival')\n",
        "plt.show()"
      ],
      "execution_count": 254,
      "outputs": [
        {
          "output_type": "display_data",
          "data": {
            "image/png": "[encoded data removed]",
            "text/plain": [
              "<Figure size 432x288 with 1 Axes>"
            ]
          },
          "metadata": {
            "tags": [],
            "needs_background": "light"
          }
        }
      ]
    },
    {
      "cell_type": "code",
      "metadata": {
        "id": "DdAxiCNRW8oc",
        "colab_type": "code",
        "colab": {
          "base_uri": "https://localhost:8080/",
          "height": 221
        },
        "outputId": "556d8a06-c6aa-4e47-df91-efb122790fab"
      },
      "source": [
        "#a view of the riders dataset\n",
        "riders.info()"
      ],
      "execution_count": 255,
      "outputs": [
        {
          "output_type": "stream",
          "text": [
            "<class 'pandas.core.frame.DataFrame'>\n",
            "RangeIndex: 960 entries, 0 to 959\n",
            "Data columns (total 5 columns):\n",
            " #   Column          Non-Null Count  Dtype  \n",
            "---  ------          --------------  -----  \n",
            " 0   Rider Id        960 non-null    object \n",
            " 1   No_Of_Orders    960 non-null    int64  \n",
            " 2   Age             960 non-null    int64  \n",
            " 3   Average_Rating  960 non-null    float64\n",
            " 4   No_of_Ratings   960 non-null    int64  \n",
            "dtypes: float64(1), int64(3), object(1)\n",
            "memory usage: 37.6+ KB\n"
          ],
          "name": "stdout"
        }
      ]
    },
    {
      "cell_type": "code",
      "metadata": {
        "id": "xQciqx4KEqNz",
        "colab_type": "code",
        "colab": {}
      },
      "source": [
        "#Merge the train and test datasets with the riders dataset\n",
        "train = pd.merge(train,riders,on='Rider Id',how='left')\n",
        "test = pd.merge(test,riders,on='Rider Id',how='left')"
      ],
      "execution_count": 256,
      "outputs": []
    },
    {
      "cell_type": "code",
      "metadata": {
        "id": "4GkV_ppQPfWw",
        "colab_type": "code",
        "colab": {}
      },
      "source": [
        "#drop the precipitation column \"too many missing values\"\n",
        "train.drop('Precipitation in millimeters', axis=1, inplace=True)\n",
        "test.drop('Precipitation in millimeters', axis=1, inplace=True)"
      ],
      "execution_count": 257,
      "outputs": []
    },
    {
      "cell_type": "code",
      "metadata": {
        "id": "qoTKdD3KPjAU",
        "colab_type": "code",
        "colab": {}
      },
      "source": [
        "#fill remaining missing values with the median\n",
        "train.fillna(train.median(), inplace=True)\n",
        "test.fillna(test.median(), inplace=True)"
      ],
      "execution_count": 258,
      "outputs": []
    },
    {
      "cell_type": "code",
      "metadata": {
        "id": "lLFsIEqkPnFl",
        "colab_type": "code",
        "colab": {
          "base_uri": "https://localhost:8080/",
          "height": 612
        },
        "outputId": "1171420c-6568-4119-e2e2-c13ea253f0e3"
      },
      "source": [
        "#looking at the test info again \n",
        "test.info()"
      ],
      "execution_count": 259,
      "outputs": [
        {
          "output_type": "stream",
          "text": [
            "<class 'pandas.core.frame.DataFrame'>\n",
            "Int64Index: 7068 entries, 0 to 7067\n",
            "Data columns (total 28 columns):\n",
            " #   Column                                Non-Null Count  Dtype  \n",
            "---  ------                                --------------  -----  \n",
            " 0   Order No                              7068 non-null   object \n",
            " 1   User Id                               7068 non-null   object \n",
            " 2   Vehicle Type                          7068 non-null   object \n",
            " 3   Platform Type                         7068 non-null   int64  \n",
            " 4   Personal or Business                  7068 non-null   object \n",
            " 5   Placement - Day of Month              7068 non-null   int64  \n",
            " 6   Placement - Weekday (Mo = 1)          7068 non-null   int64  \n",
            " 7   Placement - Time                      7068 non-null   object \n",
            " 8   Confirmation - Day of Month           7068 non-null   int64  \n",
            " 9   Confirmation - Weekday (Mo = 1)       7068 non-null   int64  \n",
            " 10  Confirmation - Time                   7068 non-null   object \n",
            " 11  Arrival at Pickup - Day of Month      7068 non-null   int64  \n",
            " 12  Arrival at Pickup - Weekday (Mo = 1)  7068 non-null   int64  \n",
            " 13  Arrival at Pickup - Time              7068 non-null   object \n",
            " 14  Pickup - Day of Month                 7068 non-null   int64  \n",
            " 15  Pickup - Weekday (Mo = 1)             7068 non-null   int64  \n",
            " 16  Pickup - Time                         7068 non-null   object \n",
            " 17  Distance (KM)                         7068 non-null   int64  \n",
            " 18  Temperature                           7068 non-null   float64\n",
            " 19  Pickup Lat                            7068 non-null   float64\n",
            " 20  Pickup Long                           7068 non-null   float64\n",
            " 21  Destination Lat                       7068 non-null   float64\n",
            " 22  Destination Long                      7068 non-null   float64\n",
            " 23  Rider Id                              7068 non-null   object \n",
            " 24  No_Of_Orders                          7068 non-null   int64  \n",
            " 25  Age                                   7068 non-null   int64  \n",
            " 26  Average_Rating                        7068 non-null   float64\n",
            " 27  No_of_Ratings                         7068 non-null   int64  \n",
            "dtypes: float64(6), int64(13), object(9)\n",
            "memory usage: 1.6+ MB\n"
          ],
          "name": "stdout"
        }
      ]
    },
    {
      "cell_type": "code",
      "metadata": {
        "id": "VsWysK_UPp8D",
        "colab_type": "code",
        "colab": {}
      },
      "source": [
        "#choosing variables to include in my train and test\n",
        "train2 = train.filter(['Personal or Business','Confirmation - Weekday (Mo = 1)','Arrival at Pickup - Weekday (Mo = 1)','Temperature','Distance (KM)','Average_Rating','No_Of_Orders','Age','Pickup Lat','Pickup Long','Destination Lat','Destination Long','Time from Pickup to Arrival'], axis=1)\n",
        "test2 = test.filter(['Personal or Business','Confirmation - Weekday (Mo = 1)','Arrival at Pickup - Weekday (Mo = 1)','Temperature','Distance (KM)','Average_Rating','No_Of_Orders','Age','Pickup Lat','Pickup Long','Destination Lat','Destination Long'], axis=1)"
      ],
      "execution_count": 260,
      "outputs": []
    },
    {
      "cell_type": "code",
      "metadata": {
        "id": "wpF5YVW1XgmA",
        "colab_type": "code",
        "colab": {}
      },
      "source": [
        "#encoding my categorical data\n",
        "train2 = pd.get_dummies(train2, columns=['Personal or Business'], drop_first=True)\n",
        "test2 = pd.get_dummies(test2, columns=['Personal or Business'], drop_first=True)"
      ],
      "execution_count": 261,
      "outputs": []
    },
    {
      "cell_type": "code",
      "metadata": {
        "id": "0fiMOr-MRNKJ",
        "colab_type": "code",
        "colab": {}
      },
      "source": [
        "#splitting my train dataset into a X and Y\n",
        "X = train2.drop(['Time from Pickup to Arrival'], axis=1)\n",
        "y = train2['Time from Pickup to Arrival']"
      ],
      "execution_count": 262,
      "outputs": []
    },
    {
      "cell_type": "code",
      "metadata": {
        "id": "YX14EBzyQIM8",
        "colab_type": "code",
        "colab": {}
      },
      "source": [
        "#splitting my dataset\n",
        "X_train, X_test, y_train, y_test = train_test_split(X, y, test_size=0.1, random_state=50)"
      ],
      "execution_count": 263,
      "outputs": []
    },
    {
      "cell_type": "code",
      "metadata": {
        "id": "jOsMh_q0SMT1",
        "colab_type": "code",
        "colab": {
          "base_uri": "https://localhost:8080/",
          "height": 34
        },
        "outputId": "0c8dfd09-16df-4923-f007-72a4193e34cf"
      },
      "source": [
        "#fitting the linear regression model\n",
        "lm = LinearRegression()\n",
        "lm.fit(X_train, y_train)"
      ],
      "execution_count": 264,
      "outputs": [
        {
          "output_type": "execute_result",
          "data": {
            "text/plain": [
              "LinearRegression(copy_X=True, fit_intercept=True, n_jobs=None, normalize=False)"
            ]
          },
          "metadata": {
            "tags": []
          },
          "execution_count": 264
        }
      ]
    },
    {
      "cell_type": "code",
      "metadata": {
        "id": "W4qGnHDrS1Tx",
        "colab_type": "code",
        "colab": {
          "base_uri": "https://localhost:8080/",
          "height": 153
        },
        "outputId": "6f98a572-81d7-4759-9a6e-d38ed3e02344"
      },
      "source": [
        "#fitting my xgboost model\n",
        "xgboost = xgb.XGBRegressor()\n",
        "xgboost.fit(X_train, y_train)"
      ],
      "execution_count": 265,
      "outputs": [
        {
          "output_type": "stream",
          "text": [
            "[07:16:37] WARNING: /workspace/src/objective/regression_obj.cu:152: reg:linear is now deprecated in favor of reg:squarederror.\n"
          ],
          "name": "stdout"
        },
        {
          "output_type": "execute_result",
          "data": {
            "text/plain": [
              "XGBRegressor(base_score=0.5, booster='gbtree', colsample_bylevel=1,\n",
              "             colsample_bynode=1, colsample_bytree=1, gamma=0,\n",
              "             importance_type='gain', learning_rate=0.1, max_delta_step=0,\n",
              "             max_depth=3, min_child_weight=1, missing=None, n_estimators=100,\n",
              "             n_jobs=1, nthread=None, objective='reg:linear', random_state=0,\n",
              "             reg_alpha=0, reg_lambda=1, scale_pos_weight=1, seed=None,\n",
              "             silent=None, subsample=1, verbosity=1)"
            ]
          },
          "metadata": {
            "tags": []
          },
          "execution_count": 265
        }
      ]
    },
    {
      "cell_type": "code",
      "metadata": {
        "id": "WO1VGQyzs2S5",
        "colab_type": "code",
        "colab": {
          "base_uri": "https://localhost:8080/",
          "height": 170
        },
        "outputId": "cc5e26ae-e80f-4c38-fc4e-27372efa38f9"
      },
      "source": [
        "#fitting my gradient boosting regressor model\n",
        "gbr = GradientBoostingRegressor()\n",
        "gbr.fit(X_train, y_train)"
      ],
      "execution_count": 266,
      "outputs": [
        {
          "output_type": "execute_result",
          "data": {
            "text/plain": [
              "GradientBoostingRegressor(alpha=0.9, ccp_alpha=0.0, criterion='friedman_mse',\n",
              "                          init=None, learning_rate=0.1, loss='ls', max_depth=3,\n",
              "                          max_features=None, max_leaf_nodes=None,\n",
              "                          min_impurity_decrease=0.0, min_impurity_split=None,\n",
              "                          min_samples_leaf=1, min_samples_split=2,\n",
              "                          min_weight_fraction_leaf=0.0, n_estimators=100,\n",
              "                          n_iter_no_change=None, presort='deprecated',\n",
              "                          random_state=None, subsample=1.0, tol=0.0001,\n",
              "                          validation_fraction=0.1, verbose=0, warm_start=False)"
            ]
          },
          "metadata": {
            "tags": []
          },
          "execution_count": 266
        }
      ]
    },
    {
      "cell_type": "code",
      "metadata": {
        "id": "tiHXCpjWTFl9",
        "colab_type": "code",
        "colab": {}
      },
      "source": [
        "#fitting the first test dataset into my three models to predict\n",
        "lm_predict = lm.predict(X_test)\n",
        "xb_predict = xgboost.predict(X_test)\n",
        "gbr_predict = gbr.predict(X_test)"
      ],
      "execution_count": 267,
      "outputs": []
    },
    {
      "cell_type": "code",
      "metadata": {
        "id": "F8_FsHGkT6fs",
        "colab_type": "code",
        "colab": {}
      },
      "source": [
        "#calculating the root mean squared error(rmse) in my models\n",
        "rmse_lm = mean_squared_error(y_test, lm_predict , squared=False)\n",
        "rmse_xb = mean_squared_error(y_test, xb_predict , squared=False)\n",
        "rmse_gbr = mean_squared_error(y_test, gbr_predict , squared=False)"
      ],
      "execution_count": 268,
      "outputs": []
    },
    {
      "cell_type": "code",
      "metadata": {
        "id": "ICR3J9xWVnCx",
        "colab_type": "code",
        "colab": {
          "base_uri": "https://localhost:8080/",
          "height": 34
        },
        "outputId": "daadd7ee-c39f-4796-fc61-18939c0dd6a5"
      },
      "source": [
        "rmse_lm"
      ],
      "execution_count": 269,
      "outputs": [
        {
          "output_type": "execute_result",
          "data": {
            "text/plain": [
              "770.6333209365018"
            ]
          },
          "metadata": {
            "tags": []
          },
          "execution_count": 269
        }
      ]
    },
    {
      "cell_type": "code",
      "metadata": {
        "id": "245mvrp-V7n-",
        "colab_type": "code",
        "colab": {
          "base_uri": "https://localhost:8080/",
          "height": 34
        },
        "outputId": "2669cea1-c520-478e-e6ef-80f32096bbc3"
      },
      "source": [
        "rmse_xb"
      ],
      "execution_count": 270,
      "outputs": [
        {
          "output_type": "execute_result",
          "data": {
            "text/plain": [
              "738.1814652539354"
            ]
          },
          "metadata": {
            "tags": []
          },
          "execution_count": 270
        }
      ]
    },
    {
      "cell_type": "code",
      "metadata": {
        "id": "SUpNckyttYk8",
        "colab_type": "code",
        "colab": {
          "base_uri": "https://localhost:8080/",
          "height": 34
        },
        "outputId": "72310a96-5c72-423a-87fb-eb72453025ac"
      },
      "source": [
        "rmse_gbr"
      ],
      "execution_count": 271,
      "outputs": [
        {
          "output_type": "execute_result",
          "data": {
            "text/plain": [
              "738.6822291632662"
            ]
          },
          "metadata": {
            "tags": []
          },
          "execution_count": 271
        }
      ]
    },
    {
      "cell_type": "code",
      "metadata": {
        "id": "DDanD92cWFu5",
        "colab_type": "code",
        "colab": {}
      },
      "source": [
        "#fitting my actual test dataset into the model with the lowest rmse\n",
        "prediction_xb = xgboost.predict(test2)"
      ],
      "execution_count": 272,
      "outputs": []
    },
    {
      "cell_type": "code",
      "metadata": {
        "id": "muBtjpJXYq7S",
        "colab_type": "code",
        "colab": {}
      },
      "source": [
        "#add my prediction values into the original test dataframe\n",
        "test['Time from Pickup to Arrival'] = prediction_xb"
      ],
      "execution_count": 273,
      "outputs": []
    },
    {
      "cell_type": "code",
      "metadata": {
        "id": "9HqNS9bXZDHa",
        "colab_type": "code",
        "colab": {
          "base_uri": "https://localhost:8080/",
          "height": 411
        },
        "outputId": "c6c17777-2a2e-4f49-aa73-9504248812c3"
      },
      "source": [
        "#a view of my test dataframe after adding my predictions column\n",
        "test.head()"
      ],
      "execution_count": 274,
      "outputs": [
        {
          "output_type": "execute_result",
          "data": {
            "text/html": [
              "<div>\n",
              "<style scoped>\n",
              "    .dataframe tbody tr th:only-of-type {\n",
              "        vertical-align: middle;\n",
              "    }\n",
              "\n",
              "    .dataframe tbody tr th {\n",
              "        vertical-align: top;\n",
              "    }\n",
              "\n",
              "    .dataframe thead th {\n",
              "        text-align: right;\n",
              "    }\n",
              "</style>\n",
              "<table border=\"1\" class=\"dataframe\">\n",
              "  <thead>\n",
              "    <tr style=\"text-align: right;\">\n",
              "      <th></th>\n",
              "      <th>Order No</th>\n",
              "      <th>User Id</th>\n",
              "      <th>Vehicle Type</th>\n",
              "      <th>Platform Type</th>\n",
              "      <th>Personal or Business</th>\n",
              "      <th>Placement - Day of Month</th>\n",
              "      <th>Placement - Weekday (Mo = 1)</th>\n",
              "      <th>Placement - Time</th>\n",
              "      <th>Confirmation - Day of Month</th>\n",
              "      <th>Confirmation - Weekday (Mo = 1)</th>\n",
              "      <th>Confirmation - Time</th>\n",
              "      <th>Arrival at Pickup - Day of Month</th>\n",
              "      <th>Arrival at Pickup - Weekday (Mo = 1)</th>\n",
              "      <th>Arrival at Pickup - Time</th>\n",
              "      <th>Pickup - Day of Month</th>\n",
              "      <th>Pickup - Weekday (Mo = 1)</th>\n",
              "      <th>Pickup - Time</th>\n",
              "      <th>Distance (KM)</th>\n",
              "      <th>Temperature</th>\n",
              "      <th>Pickup Lat</th>\n",
              "      <th>Pickup Long</th>\n",
              "      <th>Destination Lat</th>\n",
              "      <th>Destination Long</th>\n",
              "      <th>Rider Id</th>\n",
              "      <th>No_Of_Orders</th>\n",
              "      <th>Age</th>\n",
              "      <th>Average_Rating</th>\n",
              "      <th>No_of_Ratings</th>\n",
              "      <th>Time from Pickup to Arrival</th>\n",
              "    </tr>\n",
              "  </thead>\n",
              "  <tbody>\n",
              "    <tr>\n",
              "      <th>0</th>\n",
              "      <td>Order_No_19248</td>\n",
              "      <td>User_Id_3355</td>\n",
              "      <td>Bike</td>\n",
              "      <td>3</td>\n",
              "      <td>Business</td>\n",
              "      <td>27</td>\n",
              "      <td>3</td>\n",
              "      <td>4:44:10 PM</td>\n",
              "      <td>27</td>\n",
              "      <td>3</td>\n",
              "      <td>4:44:29 PM</td>\n",
              "      <td>27</td>\n",
              "      <td>3</td>\n",
              "      <td>4:53:04 PM</td>\n",
              "      <td>27</td>\n",
              "      <td>3</td>\n",
              "      <td>5:06:47 PM</td>\n",
              "      <td>8</td>\n",
              "      <td>23.4</td>\n",
              "      <td>-1.333275</td>\n",
              "      <td>36.870815</td>\n",
              "      <td>-1.305249</td>\n",
              "      <td>36.822390</td>\n",
              "      <td>Rider_Id_192</td>\n",
              "      <td>439</td>\n",
              "      <td>1511</td>\n",
              "      <td>13.3</td>\n",
              "      <td>171</td>\n",
              "      <td>1489.042725</td>\n",
              "    </tr>\n",
              "    <tr>\n",
              "      <th>1</th>\n",
              "      <td>Order_No_12736</td>\n",
              "      <td>User_Id_3647</td>\n",
              "      <td>Bike</td>\n",
              "      <td>3</td>\n",
              "      <td>Business</td>\n",
              "      <td>17</td>\n",
              "      <td>5</td>\n",
              "      <td>12:57:35 PM</td>\n",
              "      <td>17</td>\n",
              "      <td>5</td>\n",
              "      <td>12:59:17 PM</td>\n",
              "      <td>17</td>\n",
              "      <td>5</td>\n",
              "      <td>1:20:27 PM</td>\n",
              "      <td>17</td>\n",
              "      <td>5</td>\n",
              "      <td>1:25:37 PM</td>\n",
              "      <td>5</td>\n",
              "      <td>23.4</td>\n",
              "      <td>-1.272639</td>\n",
              "      <td>36.794723</td>\n",
              "      <td>-1.277007</td>\n",
              "      <td>36.823907</td>\n",
              "      <td>Rider_Id_868</td>\n",
              "      <td>488</td>\n",
              "      <td>273</td>\n",
              "      <td>14.4</td>\n",
              "      <td>45</td>\n",
              "      <td>1292.808716</td>\n",
              "    </tr>\n",
              "    <tr>\n",
              "      <th>2</th>\n",
              "      <td>Order_No_768</td>\n",
              "      <td>User_Id_2154</td>\n",
              "      <td>Bike</td>\n",
              "      <td>3</td>\n",
              "      <td>Business</td>\n",
              "      <td>27</td>\n",
              "      <td>4</td>\n",
              "      <td>11:08:14 AM</td>\n",
              "      <td>27</td>\n",
              "      <td>4</td>\n",
              "      <td>11:25:05 AM</td>\n",
              "      <td>27</td>\n",
              "      <td>4</td>\n",
              "      <td>11:33:20 AM</td>\n",
              "      <td>27</td>\n",
              "      <td>4</td>\n",
              "      <td>11:57:54 AM</td>\n",
              "      <td>5</td>\n",
              "      <td>22.8</td>\n",
              "      <td>-1.290894</td>\n",
              "      <td>36.822971</td>\n",
              "      <td>-1.276574</td>\n",
              "      <td>36.851365</td>\n",
              "      <td>Rider_Id_26</td>\n",
              "      <td>833</td>\n",
              "      <td>460</td>\n",
              "      <td>13.1</td>\n",
              "      <td>67</td>\n",
              "      <td>1347.268311</td>\n",
              "    </tr>\n",
              "    <tr>\n",
              "      <th>3</th>\n",
              "      <td>Order_No_15332</td>\n",
              "      <td>User_Id_2910</td>\n",
              "      <td>Bike</td>\n",
              "      <td>3</td>\n",
              "      <td>Business</td>\n",
              "      <td>17</td>\n",
              "      <td>1</td>\n",
              "      <td>1:51:35 PM</td>\n",
              "      <td>17</td>\n",
              "      <td>1</td>\n",
              "      <td>1:53:27 PM</td>\n",
              "      <td>17</td>\n",
              "      <td>1</td>\n",
              "      <td>2:02:41 PM</td>\n",
              "      <td>17</td>\n",
              "      <td>1</td>\n",
              "      <td>2:16:52 PM</td>\n",
              "      <td>5</td>\n",
              "      <td>24.5</td>\n",
              "      <td>-1.290503</td>\n",
              "      <td>36.809646</td>\n",
              "      <td>-1.303382</td>\n",
              "      <td>36.790658</td>\n",
              "      <td>Rider_Id_685</td>\n",
              "      <td>487</td>\n",
              "      <td>560</td>\n",
              "      <td>13.7</td>\n",
              "      <td>44</td>\n",
              "      <td>1231.512329</td>\n",
              "    </tr>\n",
              "    <tr>\n",
              "      <th>4</th>\n",
              "      <td>Order_No_21373</td>\n",
              "      <td>User_Id_1205</td>\n",
              "      <td>Bike</td>\n",
              "      <td>3</td>\n",
              "      <td>Business</td>\n",
              "      <td>11</td>\n",
              "      <td>2</td>\n",
              "      <td>11:30:28 AM</td>\n",
              "      <td>11</td>\n",
              "      <td>2</td>\n",
              "      <td>11:34:45 AM</td>\n",
              "      <td>11</td>\n",
              "      <td>2</td>\n",
              "      <td>11:47:19 AM</td>\n",
              "      <td>11</td>\n",
              "      <td>2</td>\n",
              "      <td>11:56:04 AM</td>\n",
              "      <td>6</td>\n",
              "      <td>24.4</td>\n",
              "      <td>-1.281081</td>\n",
              "      <td>36.814423</td>\n",
              "      <td>-1.266467</td>\n",
              "      <td>36.792161</td>\n",
              "      <td>Rider_Id_858</td>\n",
              "      <td>4761</td>\n",
              "      <td>1120</td>\n",
              "      <td>14.1</td>\n",
              "      <td>1010</td>\n",
              "      <td>1216.424927</td>\n",
              "    </tr>\n",
              "  </tbody>\n",
              "</table>\n",
              "</div>"
            ],
            "text/plain": [
              "         Order No       User Id  ... No_of_Ratings  Time from Pickup to Arrival\n",
              "0  Order_No_19248  User_Id_3355  ...           171                  1489.042725\n",
              "1  Order_No_12736  User_Id_3647  ...            45                  1292.808716\n",
              "2    Order_No_768  User_Id_2154  ...            67                  1347.268311\n",
              "3  Order_No_15332  User_Id_2910  ...            44                  1231.512329\n",
              "4  Order_No_21373  User_Id_1205  ...          1010                  1216.424927\n",
              "\n",
              "[5 rows x 29 columns]"
            ]
          },
          "metadata": {
            "tags": []
          },
          "execution_count": 274
        }
      ]
    },
    {
      "cell_type": "code",
      "metadata": {
        "id": "jkUg90jnZJBG",
        "colab_type": "code",
        "colab": {}
      },
      "source": [
        "#round off my predictions\n",
        "test['Time from Pickup to Arrival'] = test[['Time from Pickup to Arrival']].apply(pd.Series.round)"
      ],
      "execution_count": 275,
      "outputs": []
    },
    {
      "cell_type": "code",
      "metadata": {
        "id": "S9tp51-wbiE6",
        "colab_type": "code",
        "colab": {
          "base_uri": "https://localhost:8080/",
          "height": 204
        },
        "outputId": "45fd0538-1b14-4a43-c336-5a474da4734d"
      },
      "source": [
        "#look at the sample submission to see the shape\n",
        "sample_submission.head()"
      ],
      "execution_count": 276,
      "outputs": [
        {
          "output_type": "execute_result",
          "data": {
            "text/html": [
              "<div>\n",
              "<style scoped>\n",
              "    .dataframe tbody tr th:only-of-type {\n",
              "        vertical-align: middle;\n",
              "    }\n",
              "\n",
              "    .dataframe tbody tr th {\n",
              "        vertical-align: top;\n",
              "    }\n",
              "\n",
              "    .dataframe thead th {\n",
              "        text-align: right;\n",
              "    }\n",
              "</style>\n",
              "<table border=\"1\" class=\"dataframe\">\n",
              "  <thead>\n",
              "    <tr style=\"text-align: right;\">\n",
              "      <th></th>\n",
              "      <th>Order_No</th>\n",
              "      <th>Time from Pickup to Arrival</th>\n",
              "    </tr>\n",
              "  </thead>\n",
              "  <tbody>\n",
              "    <tr>\n",
              "      <th>0</th>\n",
              "      <td>Order_No_19248</td>\n",
              "      <td>567.0</td>\n",
              "    </tr>\n",
              "    <tr>\n",
              "      <th>1</th>\n",
              "      <td>Order_No_12736</td>\n",
              "      <td>4903.0</td>\n",
              "    </tr>\n",
              "    <tr>\n",
              "      <th>2</th>\n",
              "      <td>Order_No_768</td>\n",
              "      <td>5649.0</td>\n",
              "    </tr>\n",
              "    <tr>\n",
              "      <th>3</th>\n",
              "      <td>Order_No_15332</td>\n",
              "      <td>NaN</td>\n",
              "    </tr>\n",
              "    <tr>\n",
              "      <th>4</th>\n",
              "      <td>Order_No_21373</td>\n",
              "      <td>NaN</td>\n",
              "    </tr>\n",
              "  </tbody>\n",
              "</table>\n",
              "</div>"
            ],
            "text/plain": [
              "         Order_No  Time from Pickup to Arrival\n",
              "0  Order_No_19248                        567.0\n",
              "1  Order_No_12736                       4903.0\n",
              "2    Order_No_768                       5649.0\n",
              "3  Order_No_15332                          NaN\n",
              "4  Order_No_21373                          NaN"
            ]
          },
          "metadata": {
            "tags": []
          },
          "execution_count": 276
        }
      ]
    },
    {
      "cell_type": "code",
      "metadata": {
        "id": "oaOLsfxbZRE4",
        "colab_type": "code",
        "colab": {}
      },
      "source": [
        "#select the columns that I want for my submission\n",
        "prediction = test.filter(['Order No','Time from Pickup to Arrival'], axis=1)"
      ],
      "execution_count": 277,
      "outputs": []
    },
    {
      "cell_type": "code",
      "metadata": {
        "id": "zz--hzAbZUKX",
        "colab_type": "code",
        "colab": {
          "base_uri": "https://localhost:8080/",
          "height": 204
        },
        "outputId": "9fbaebdd-bf7a-4af7-a97e-b4281a73d39b"
      },
      "source": [
        "#look at my prediction to see if its same as sample submission\n",
        "prediction.head()"
      ],
      "execution_count": 278,
      "outputs": [
        {
          "output_type": "execute_result",
          "data": {
            "text/html": [
              "<div>\n",
              "<style scoped>\n",
              "    .dataframe tbody tr th:only-of-type {\n",
              "        vertical-align: middle;\n",
              "    }\n",
              "\n",
              "    .dataframe tbody tr th {\n",
              "        vertical-align: top;\n",
              "    }\n",
              "\n",
              "    .dataframe thead th {\n",
              "        text-align: right;\n",
              "    }\n",
              "</style>\n",
              "<table border=\"1\" class=\"dataframe\">\n",
              "  <thead>\n",
              "    <tr style=\"text-align: right;\">\n",
              "      <th></th>\n",
              "      <th>Order No</th>\n",
              "      <th>Time from Pickup to Arrival</th>\n",
              "    </tr>\n",
              "  </thead>\n",
              "  <tbody>\n",
              "    <tr>\n",
              "      <th>0</th>\n",
              "      <td>Order_No_19248</td>\n",
              "      <td>1489.0</td>\n",
              "    </tr>\n",
              "    <tr>\n",
              "      <th>1</th>\n",
              "      <td>Order_No_12736</td>\n",
              "      <td>1293.0</td>\n",
              "    </tr>\n",
              "    <tr>\n",
              "      <th>2</th>\n",
              "      <td>Order_No_768</td>\n",
              "      <td>1347.0</td>\n",
              "    </tr>\n",
              "    <tr>\n",
              "      <th>3</th>\n",
              "      <td>Order_No_15332</td>\n",
              "      <td>1232.0</td>\n",
              "    </tr>\n",
              "    <tr>\n",
              "      <th>4</th>\n",
              "      <td>Order_No_21373</td>\n",
              "      <td>1216.0</td>\n",
              "    </tr>\n",
              "  </tbody>\n",
              "</table>\n",
              "</div>"
            ],
            "text/plain": [
              "         Order No  Time from Pickup to Arrival\n",
              "0  Order_No_19248                       1489.0\n",
              "1  Order_No_12736                       1293.0\n",
              "2    Order_No_768                       1347.0\n",
              "3  Order_No_15332                       1232.0\n",
              "4  Order_No_21373                       1216.0"
            ]
          },
          "metadata": {
            "tags": []
          },
          "execution_count": 278
        }
      ]
    },
    {
      "cell_type": "code",
      "metadata": {
        "id": "Mm7URAFZZfMT",
        "colab_type": "code",
        "colab": {}
      },
      "source": [
        "#save my prediction into a csv file\n",
        "prediction.to_csv('prediction14.csv',index=False)"
      ],
      "execution_count": 279,
      "outputs": []
    }
  ]
}